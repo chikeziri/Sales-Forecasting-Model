{
 "cells": [
  {
   "cell_type": "markdown",
   "id": "a40f872b",
   "metadata": {},
   "source": [
    "# Sales Forecasting Model (R)\n",
    "\n",
    "**Objective:** Use time-series analysis to forecast monthly sales.\n",
    "\n",
    "**Dataset:** `data/sample_data.csv` (date, product, units_sold)\n",
    "\n",
    "---\n",
    "\n",
    "The notebook contains an R script. If using a Python kernel, run R via `rpy2` or convert to an R Notebook."
   ]
  },
  {
   "cell_type": "code",
   "execution_count": null,
   "id": "6dd863fe",
   "metadata": {},
   "outputs": [],
   "source": [
    "# R script example (paste into an R environment or R notebook)\n",
    "# df <- read.csv('data/sample_data.csv')\n",
    "# df$date <- as.Date(df$date)\n",
    "# library(forecast)\n",
    "# ts_data <- ts(df$units_sold, frequency=12, start=c(2023,1))\n",
    "# fit <- auto.arima(ts_data)\n",
    "# forecasted <- forecast(fit, h=3)\n",
    "# plot(forecasted)\n",
    "print('This cell contains R code for time-series forecasting. Run in R kernel.')"
   ]
  }
 ],
 "metadata": {},
 "nbformat": 4,
 "nbformat_minor": 5
}
